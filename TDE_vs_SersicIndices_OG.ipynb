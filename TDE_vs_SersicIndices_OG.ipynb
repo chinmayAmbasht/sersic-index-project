{
  "cells": [
    {
      "cell_type": "code",
      "execution_count": 3,
      "metadata": {
        "id": "PtxXGWRb3Op9"
      },
      "outputs": [
        {
          "name": "stderr",
          "output_type": "stream",
          "text": [
            "c:\\Users\\Chinmay A\\AppData\\Local\\Programs\\Python\\Python311\\Lib\\site-packages\\numpy\\_distributor_init.py:30: UserWarning: loaded more than 1 DLL from .libs:\n",
            "c:\\Users\\Chinmay A\\AppData\\Local\\Programs\\Python\\Python311\\Lib\\site-packages\\numpy\\.libs\\libopenblas.FB5AE2TYXYH2IJRDKGDGQ3XBKLKTF43H.gfortran-win_amd64.dll\n",
            "c:\\Users\\Chinmay A\\AppData\\Local\\Programs\\Python\\Python311\\Lib\\site-packages\\numpy\\.libs\\libopenblas64__v0.3.23-gcc_10_3_0.dll\n",
            "  warnings.warn(\"loaded more than 1 DLL from .libs:\"\n"
          ]
        }
      ],
      "source": [
        "import pandas as pd\n",
        "import numpy as np\n",
        "from astropy.io import fits,ascii\n",
        "from astropy.coordinates import SkyCoord,Distance,Angle,match_coordinates_sky,match_coordinates_3d\n",
        "from astropy.constants import M_sun\n",
        "from astropy.table import QTable,join,Table\n",
        "import astropy.units as u\n",
        "import astropy.cosmology.units as cu\n",
        "from astropy.cosmology import WMAP9\n",
        "from matplotlib.colors import LogNorm\n",
        "import warnings\n",
        "import seaborn as sns \n",
        "\n",
        "# Set up matplotlib\n",
        "import matplotlib.pyplot as plt\n",
        "%matplotlib inline"
      ]
    },
    {
      "cell_type": "markdown",
      "metadata": {
        "id": "11JcSVAe6yDb"
      },
      "source": [
        "TNS Survey Data containing TDE, TDE-H + He\n",
        "\n"
      ]
    },
    {
      "cell_type": "code",
      "execution_count": 4,
      "metadata": {
        "id": "hYz5pilw3lsx"
      },
      "outputs": [],
      "source": [
        "tns_tde = pd.read_csv('tns_search_tde.csv')\n",
        "tns_tde1 = pd.read_csv('tns_search_tde1.csv')\n",
        "tns2 = pd.read_csv('tns_search_tdehhe.csv')\n",
        "tns_complete_list = pd.concat([tns_tde,tns_tde1,tns2])\n",
        "#tns_complete_list\n",
        "tns_complete_list.to_csv('tde_complete.csv')\n",
        "#tns_tde"
      ]
    },
    {
      "cell_type": "code",
      "execution_count": 5,
      "metadata": {
        "colab": {
          "base_uri": "https://localhost:8080/"
        },
        "id": "nGnlPqsXs-gW",
        "outputId": "dba32bb5-7d47-4088-fade-8da6c9d6eed7"
      },
      "outputs": [],
      "source": [
        "data_tns = tns_complete_list[['Name','RA','DEC','Redshift','Obj. Type']]\n",
        "#data_tns"
      ]
    },
    {
      "cell_type": "code",
      "execution_count": 6,
      "metadata": {
        "id": "yzet01w_FPcF"
      },
      "outputs": [
        {
          "data": {
            "text/html": [
              "<div>\n",
              "<style scoped>\n",
              "    .dataframe tbody tr th:only-of-type {\n",
              "        vertical-align: middle;\n",
              "    }\n",
              "\n",
              "    .dataframe tbody tr th {\n",
              "        vertical-align: top;\n",
              "    }\n",
              "\n",
              "    .dataframe thead th {\n",
              "        text-align: right;\n",
              "    }\n",
              "</style>\n",
              "<table border=\"1\" class=\"dataframe\">\n",
              "  <thead>\n",
              "    <tr style=\"text-align: right;\">\n",
              "      <th></th>\n",
              "      <th>Name</th>\n",
              "      <th>RA</th>\n",
              "      <th>DEC</th>\n",
              "      <th>Redshift</th>\n",
              "      <th>Obj. Type</th>\n",
              "    </tr>\n",
              "  </thead>\n",
              "  <tbody>\n",
              "    <tr>\n",
              "      <th>0</th>\n",
              "      <td>AT 2023cvb</td>\n",
              "      <td>19:14:25.680</td>\n",
              "      <td>+41:40:09.28</td>\n",
              "      <td>0.071000</td>\n",
              "      <td>TDE</td>\n",
              "    </tr>\n",
              "    <tr>\n",
              "      <th>1</th>\n",
              "      <td>AT 2023clx</td>\n",
              "      <td>11:40:09.397</td>\n",
              "      <td>+15:19:38.54</td>\n",
              "      <td>NaN</td>\n",
              "      <td>TDE</td>\n",
              "    </tr>\n",
              "    <tr>\n",
              "      <th>2</th>\n",
              "      <td>AT 2022wtn</td>\n",
              "      <td>23:23:23.778</td>\n",
              "      <td>+10:41:07.99</td>\n",
              "      <td>0.049000</td>\n",
              "      <td>TDE</td>\n",
              "    </tr>\n",
              "    <tr>\n",
              "      <th>3</th>\n",
              "      <td>AT 2022upj</td>\n",
              "      <td>00:23:56.846</td>\n",
              "      <td>-14:25:23.22</td>\n",
              "      <td>0.054000</td>\n",
              "      <td>TDE</td>\n",
              "    </tr>\n",
              "    <tr>\n",
              "      <th>4</th>\n",
              "      <td>AT 2022pna</td>\n",
              "      <td>01:41:55.550</td>\n",
              "      <td>-03:17:22.60</td>\n",
              "      <td>0.095000</td>\n",
              "      <td>TDE</td>\n",
              "    </tr>\n",
              "    <tr>\n",
              "      <th>...</th>\n",
              "      <td>...</td>\n",
              "      <td>...</td>\n",
              "      <td>...</td>\n",
              "      <td>...</td>\n",
              "      <td>...</td>\n",
              "    </tr>\n",
              "    <tr>\n",
              "      <th>11</th>\n",
              "      <td>AT 2018dyb</td>\n",
              "      <td>16:10:58.774</td>\n",
              "      <td>-60:55:23.16</td>\n",
              "      <td>0.018000</td>\n",
              "      <td>TDE</td>\n",
              "    </tr>\n",
              "    <tr>\n",
              "      <th>12</th>\n",
              "      <td>AT 2018bsi</td>\n",
              "      <td>08:15:26.621</td>\n",
              "      <td>+45:35:31.95</td>\n",
              "      <td>0.051000</td>\n",
              "      <td>TDE</td>\n",
              "    </tr>\n",
              "    <tr>\n",
              "      <th>13</th>\n",
              "      <td>AT 2018zr</td>\n",
              "      <td>07:56:54.537</td>\n",
              "      <td>+34:15:43.61</td>\n",
              "      <td>0.071000</td>\n",
              "      <td>TDE</td>\n",
              "    </tr>\n",
              "    <tr>\n",
              "      <th>14</th>\n",
              "      <td>AT 2016fnl</td>\n",
              "      <td>00:29:57.042</td>\n",
              "      <td>+32:53:37.51</td>\n",
              "      <td>0.016328</td>\n",
              "      <td>TDE</td>\n",
              "    </tr>\n",
              "    <tr>\n",
              "      <th>0</th>\n",
              "      <td>AT 2022csn</td>\n",
              "      <td>07:28:54.930</td>\n",
              "      <td>+26:53:49.31</td>\n",
              "      <td>0.148000</td>\n",
              "      <td>TDE-H-He</td>\n",
              "    </tr>\n",
              "  </tbody>\n",
              "</table>\n",
              "<p>66 rows × 5 columns</p>\n",
              "</div>"
            ],
            "text/plain": [
              "          Name            RA           DEC  Redshift Obj. Type\n",
              "0   AT 2023cvb  19:14:25.680  +41:40:09.28  0.071000       TDE\n",
              "1   AT 2023clx  11:40:09.397  +15:19:38.54       NaN       TDE\n",
              "2   AT 2022wtn  23:23:23.778  +10:41:07.99  0.049000       TDE\n",
              "3   AT 2022upj  00:23:56.846  -14:25:23.22  0.054000       TDE\n",
              "4   AT 2022pna  01:41:55.550  -03:17:22.60  0.095000       TDE\n",
              "..         ...           ...           ...       ...       ...\n",
              "11  AT 2018dyb  16:10:58.774  -60:55:23.16  0.018000       TDE\n",
              "12  AT 2018bsi  08:15:26.621  +45:35:31.95  0.051000       TDE\n",
              "13   AT 2018zr  07:56:54.537  +34:15:43.61  0.071000       TDE\n",
              "14  AT 2016fnl  00:29:57.042  +32:53:37.51  0.016328       TDE\n",
              "0   AT 2022csn  07:28:54.930  +26:53:49.31  0.148000  TDE-H-He\n",
              "\n",
              "[66 rows x 5 columns]"
            ]
          },
          "execution_count": 6,
          "metadata": {},
          "output_type": "execute_result"
        }
      ],
      "source": [
        "data_tns"
      ]
    },
    {
      "cell_type": "code",
      "execution_count": 7,
      "metadata": {},
      "outputs": [],
      "source": [
        "data_tns_qt= QTable.from_pandas(data_tns)\n",
        "#data_tns_qt"
      ]
    },
    {
      "cell_type": "code",
      "execution_count": 8,
      "metadata": {},
      "outputs": [
        {
          "name": "stderr",
          "output_type": "stream",
          "text": [
            "c:\\Users\\Chinmay A\\AppData\\Local\\Programs\\Python\\Python311\\Lib\\site-packages\\numpy\\lib\\function_base.py:2411: RuntimeWarning: invalid value encountered in _integral_comoving_distance_z1z2_scalar (vectorized)\n",
            "  outputs = ufunc(*inputs)\n"
          ]
        },
        {
          "data": {
            "text/html": [
              "<div><i>QTable length=66</i>\n",
              "<table id=\"table2207612217936\" class=\"table-striped table-bordered table-condensed\">\n",
              "<thead><tr><th>Name</th><th>RA</th><th>DEC</th><th>Redshift</th><th>Obj. Type</th><th>Distance</th></tr></thead>\n",
              "<thead><tr><th></th><th></th><th></th><th></th><th></th><th>Mpc</th></tr></thead>\n",
              "<thead><tr><th>str11</th><th>str12</th><th>str12</th><th>float64</th><th>str8</th><th>float64</th></tr></thead>\n",
              "<tr><td>AT 2023cvb</td><td>19:14:25.680</td><td>+41:40:09.28</td><td>0.071</td><td>TDE</td><td>302.29868043697275</td></tr>\n",
              "<tr><td>AT 2023clx</td><td>11:40:09.397</td><td>+15:19:38.54</td><td>--</td><td>TDE</td><td>0.0</td></tr>\n",
              "<tr><td>AT 2022wtn</td><td>23:23:23.778</td><td>+10:41:07.99</td><td>0.049</td><td>TDE</td><td>209.6566147365348</td></tr>\n",
              "<tr><td>AT 2022upj</td><td>00:23:56.846</td><td>-14:25:23.22</td><td>0.054</td><td>TDE</td><td>230.79350990031134</td></tr>\n",
              "<tr><td>AT 2022pna</td><td>01:41:55.550</td><td>-03:17:22.60</td><td>0.095</td><td>TDE</td><td>402.29210519009064</td></tr>\n",
              "<tr><td>AT 2022lri</td><td>02:20:08.009</td><td>-22:43:15.42</td><td>0.032</td><td>TDE</td><td>137.4334181754939</td></tr>\n",
              "<tr><td>AT 2022ibq</td><td>17:50:35.785</td><td>+21:16:29.92</td><td>0.395</td><td>TDE</td><td>1555.0863018405862</td></tr>\n",
              "<tr><td>AT 2022hvp</td><td>09:54:45.240</td><td>+55:26:25.37</td><td>0.12</td><td>TDE</td><td>505.25146301291954</td></tr>\n",
              "<tr><td>AT 2022gri</td><td>07:18:20.778</td><td>+33:59:41.58</td><td>0.028</td><td>TDE</td><td>120.35977285228628</td></tr>\n",
              "<tr><td>...</td><td>...</td><td>...</td><td>...</td><td>...</td><td>...</td></tr>\n",
              "<tr><td>AT 2018lna</td><td>07:03:18.649</td><td>+23:01:44.70</td><td>0.091</td><td>TDE</td><td>385.7046212120779</td></tr>\n",
              "<tr><td>AT 2018iih</td><td>17:28:03.930</td><td>+30:41:31.42</td><td>0.212</td><td>TDE</td><td>873.4308012069049</td></tr>\n",
              "<tr><td>AT 2018hyz</td><td>10:06:50.871</td><td>+01:41:34.08</td><td>0.04573</td><td>TDE</td><td>195.80715086922774</td></tr>\n",
              "<tr><td>AT 2018hco</td><td>01:07:33.635</td><td>+23:28:34.28</td><td>0.09</td><td>TDE</td><td>381.5528564341525</td></tr>\n",
              "<tr><td>AT 2018fyk</td><td>22:50:16.090</td><td>-44:51:53.50</td><td>0.06</td><td>TDE</td><td>256.09432726823866</td></tr>\n",
              "<tr><td>AT 2018dyb</td><td>16:10:58.774</td><td>-60:55:23.16</td><td>0.018</td><td>TDE</td><td>77.54323493060458</td></tr>\n",
              "<tr><td>AT 2018bsi</td><td>08:15:26.621</td><td>+45:35:31.95</td><td>0.051</td><td>TDE</td><td>218.11713237456627</td></tr>\n",
              "<tr><td>AT 2018zr</td><td>07:56:54.537</td><td>+34:15:43.61</td><td>0.071</td><td>TDE</td><td>302.29868043697275</td></tr>\n",
              "<tr><td>AT 2016fnl</td><td>00:29:57.042</td><td>+32:53:37.51</td><td>0.016328</td><td>TDE</td><td>70.36591089984243</td></tr>\n",
              "<tr><td>AT 2022csn</td><td>07:28:54.930</td><td>+26:53:49.31</td><td>0.148</td><td>TDE-H-He</td><td>619.0978287319634</td></tr>\n",
              "</table></div>"
            ],
            "text/plain": [
              "<QTable length=66>\n",
              "   Name         RA          DEC      Redshift Obj. Type      Distance     \n",
              "                                                               Mpc        \n",
              "  str11       str12        str12     float64     str8        float64      \n",
              "---------- ------------ ------------ -------- --------- ------------------\n",
              "AT 2023cvb 19:14:25.680 +41:40:09.28    0.071       TDE 302.29868043697275\n",
              "AT 2023clx 11:40:09.397 +15:19:38.54       --       TDE                0.0\n",
              "AT 2022wtn 23:23:23.778 +10:41:07.99    0.049       TDE  209.6566147365348\n",
              "AT 2022upj 00:23:56.846 -14:25:23.22    0.054       TDE 230.79350990031134\n",
              "AT 2022pna 01:41:55.550 -03:17:22.60    0.095       TDE 402.29210519009064\n",
              "AT 2022lri 02:20:08.009 -22:43:15.42    0.032       TDE  137.4334181754939\n",
              "AT 2022ibq 17:50:35.785 +21:16:29.92    0.395       TDE 1555.0863018405862\n",
              "AT 2022hvp 09:54:45.240 +55:26:25.37     0.12       TDE 505.25146301291954\n",
              "AT 2022gri 07:18:20.778 +33:59:41.58    0.028       TDE 120.35977285228628\n",
              "       ...          ...          ...      ...       ...                ...\n",
              "AT 2018lna 07:03:18.649 +23:01:44.70    0.091       TDE  385.7046212120779\n",
              "AT 2018iih 17:28:03.930 +30:41:31.42    0.212       TDE  873.4308012069049\n",
              "AT 2018hyz 10:06:50.871 +01:41:34.08  0.04573       TDE 195.80715086922774\n",
              "AT 2018hco 01:07:33.635 +23:28:34.28     0.09       TDE  381.5528564341525\n",
              "AT 2018fyk 22:50:16.090 -44:51:53.50     0.06       TDE 256.09432726823866\n",
              "AT 2018dyb 16:10:58.774 -60:55:23.16    0.018       TDE  77.54323493060458\n",
              "AT 2018bsi 08:15:26.621 +45:35:31.95    0.051       TDE 218.11713237456627\n",
              " AT 2018zr 07:56:54.537 +34:15:43.61    0.071       TDE 302.29868043697275\n",
              "AT 2016fnl 00:29:57.042 +32:53:37.51 0.016328       TDE  70.36591089984243\n",
              "AT 2022csn 07:28:54.930 +26:53:49.31    0.148  TDE-H-He  619.0978287319634"
            ]
          },
          "execution_count": 8,
          "metadata": {},
          "output_type": "execute_result"
        }
      ],
      "source": [
        "z = data_tns_qt['Redshift']*cu.redshift\n",
        "data_tns_qt[\"Distance\"] = z.to(u.Mpc, cu.redshift_distance(WMAP9, kind=\"comoving\"))\n",
        "data_tns_qt\n",
        "# z.to(u.Mpc, u.doppler_redshift()) \n",
        "\n",
        "# df_tns_pos = pd.DataFrame(data_tns['RA'],data_tns['DEC'],d)\n",
        "# df_tns_pos"
      ]
    },
    {
      "cell_type": "code",
      "execution_count": 9,
      "metadata": {},
      "outputs": [
        {
          "data": {
            "text/plain": [
              "64"
            ]
          },
          "execution_count": 9,
          "metadata": {},
          "output_type": "execute_result"
        }
      ],
      "source": [
        "    data_tns = data_tns_qt.to_pandas()\n",
        "    data_tns_nonna = data_tns.dropna()\n",
        "    len(data_tns_nonna)"
      ]
    },
    {
      "cell_type": "code",
      "execution_count": 10,
      "metadata": {},
      "outputs": [
        {
          "data": {
            "text/plain": [
              "64"
            ]
          },
          "execution_count": 10,
          "metadata": {},
          "output_type": "execute_result"
        }
      ],
      "source": [
        "tns_catalog_dist = QTable.from_pandas(data_tns_nonna)\n",
        "tns_catalog_dist['RA'] = Angle(tns_catalog_dist['RA'],u.deg)\n",
        "tns_catalog_dist['DEC'] = Angle(tns_catalog_dist['DEC'],u.deg)\n",
        "tns_catalog_dist['Distance'] = Distance(tns_catalog_dist['Distance'],u.Mpc)\n",
        "tns_catalog_dist['Coordinates'] = SkyCoord(tns_catalog_dist['RA'],tns_catalog_dist['DEC'],tns_catalog_dist['Distance'])\n",
        "len(tns_catalog_dist)"
      ]
    },
    {
      "cell_type": "code",
      "execution_count": 25,
      "metadata": {},
      "outputs": [
        {
          "data": {
            "text/plain": [
              "66"
            ]
          },
          "execution_count": 25,
          "metadata": {},
          "output_type": "execute_result"
        }
      ],
      "source": [
        "tns_data = QTable.from_pandas(data_tns)\n",
        "tns_data['RA']= Angle(tns_data['RA'],u.hourangle)\n",
        "tns_data['DEC']= Angle(tns_data['DEC'],u.deg)\n",
        "tns_data[\"Coord\"] = SkyCoord(tns_data[\"RA\"], tns_data[\"DEC\"])\n",
        "tns_data['Distance'] = Distance(tns_data['Distance'],u.Mpc)\n",
        "#tns_data['Coord 3D'] = SkyCoord(tns_data['RA'],tns_data['DEC'],tns_data['Distance'])\n",
        "len(tns_data)"
      ]
    },
    {
      "cell_type": "markdown",
      "metadata": {
        "id": "Z3NrVREN7IuQ"
      },
      "source": [
        "NSA Sloan Data"
      ]
    },
    {
      "cell_type": "code",
      "execution_count": 12,
      "metadata": {
        "id": "2BkrP8z866nr"
      },
      "outputs": [
        {
          "name": "stdout",
          "output_type": "stream",
          "text": [
            "Filename: nsa_v0_1_2.fits\n",
            "No.    Name      Ver    Type      Cards   Dimensions   Format\n",
            "  0  PRIMARY       1 PrimaryHDU       4   ()      \n",
            "  1                1 BinTableHDU    312   145155R x 143C   [19A, 27A, D, D, J, J, J, J, J, J, E, E, 7A, E, I, B, I, 3A, E, E, E, E, E, J, 7E, 7E, I, 7E, 7E, 7E, 7E, 7E, 5E, 7E, E, E, E, E, D, D, 7E, 105E, 105E, 105E, 105E, 105E, 105E, 7E, 7E, 7E, 7E, E, E, E, E, 7E, 7E, E, E, E, 7E, 7E, 7J, J, J, 8A, 15E, E, E, E, E, J, J, J, J, 7E, E, E, E, E, E, E, E, E, E, E, E, E, E, E, E, E, E, E, E, E, E, E, E, E, E, E, E, E, E, E, E, E, E, E, E, E, E, E, E, E, E, E, E, E, E, E, E, E, E, E, E, E, E, E, E, E, E, E, D, D, E, 6A, 23A, 8A, J, D, D]   \n"
          ]
        }
      ],
      "source": [
        "hdu_list = fits.open('nsa_v0_1_2.fits', memmap=True)\n",
        "hdu_list.info()"
      ]
    },
    {
      "cell_type": "code",
      "execution_count": 13,
      "metadata": {
        "id": "mam3QKTegQVk"
      },
      "outputs": [],
      "source": [
        "hdu  = hdu_list[1]\n",
        "#hdu.data.columns"
      ]
    },
    {
      "cell_type": "code",
      "execution_count": null,
      "metadata": {},
      "outputs": [],
      "source": []
    },
    {
      "cell_type": "code",
      "execution_count": 15,
      "metadata": {},
      "outputs": [
        {
          "data": {
            "text/html": [
              "<div><i>QTable length=145155</i>\n",
              "<table id=\"table2205475116944\" class=\"table-striped table-bordered table-condensed\">\n",
              "<thead><tr><th>IAUNAME</th><th>RA</th><th>DEC</th><th>ZDIST</th><th>MASS</th><th>SERSIC_N</th><th>Coordinate</th></tr></thead>\n",
              "<thead><tr><th></th><th>deg</th><th>deg</th><th></th><th></th><th></th><th>deg,deg</th></tr></thead>\n",
              "<thead><tr><th>str19</th><th>float64</th><th>float64</th><th>float32</th><th>float32</th><th>float32</th><th>SkyCoord</th></tr></thead>\n",
              "<tr><td>J094651.40-010228.5</td><td>146.71420878660933</td><td>-1.0412815695754145</td><td>0.020687785</td><td>8815395000.0</td><td>4.7782097</td><td>146.71420878660933,-1.0412815695754145</td></tr>\n",
              "<tr><td>J094631.60-005917.7</td><td>146.63173520920705</td><td>-0.9883548584122686</td><td>0.052030597</td><td>1583589900.0</td><td>0.91950214</td><td>146.63173520920705,-0.9883548584122686</td></tr>\n",
              "<tr><td>J094842.33-002114.4</td><td>147.1764469492006</td><td>-0.3540304166428786</td><td>0.0068420386</td><td>98977950.0</td><td>2.2755644</td><td>147.1764469492006,-0.3540304166428786</td></tr>\n",
              "<tr><td>J094919.08+000144.0</td><td>147.32950521628283</td><td>0.028894913633412792</td><td>0.04747421</td><td>17028572000.0</td><td>2.1455417</td><td>147.32950521628283,0.028894913633412792</td></tr>\n",
              "<tr><td>J094725.62-001626.6</td><td>146.85676078112354</td><td>-0.27409464401659345</td><td>0.021350192</td><td>211533090.0</td><td>1.4893433</td><td>146.85676078112354,-0.27409464401659345</td></tr>\n",
              "<tr><td>J094446.23-004118.2</td><td>146.19324131894246</td><td>-0.6893913949609716</td><td>0.0048225927</td><td>51908532.0</td><td>1.0075195</td><td>146.19324131894246,-0.6893913949609716</td></tr>\n",
              "<tr><td>J094401.87-003832.1</td><td>146.00780138386094</td><td>-0.6422592232200361</td><td>0.005471182</td><td>29839562.0</td><td>6.0</td><td>146.00780138386094,-0.6422592232200361</td></tr>\n",
              "<tr><td>J094622.67-000759.3</td><td>146.59449798798227</td><td>-0.13314606121936812</td><td>0.045040708</td><td>2126517800.0</td><td>0.8475048</td><td>146.59449798798227,-0.13314606121936812</td></tr>\n",
              "<tr><td>J094628.56-002603.4</td><td>146.61906337604535</td><td>-0.43434545816802345</td><td>0.0066249934</td><td>191209170.0</td><td>0.9113793</td><td>146.61906337604535,-0.43434545816802345</td></tr>\n",
              "<tr><td>...</td><td>...</td><td>...</td><td>...</td><td>...</td><td>...</td><td>...</td></tr>\n",
              "<tr><td>J142742.16-014522.6</td><td>216.92499212397075</td><td>-1.7557017362305867</td><td>0.053435154</td><td>76612050000.0</td><td>6.0</td><td>216.92499212397075,-1.7557017362305867</td></tr>\n",
              "<tr><td>J142736.09-012439.8</td><td>216.90023343631415</td><td>-1.410897845120738</td><td>0.054302376</td><td>5050772500.0</td><td>5.5464573</td><td>216.90023343631415,-1.410897845120738</td></tr>\n",
              "<tr><td>J142620.56-014727.5</td><td>216.5857473491866</td><td>-1.7908952250653607</td><td>0.054394297</td><td>6049248000.0</td><td>1.9632955</td><td>216.5857473491866,-1.7908952250653607</td></tr>\n",
              "<tr><td>J142551.55-012832.3</td><td>216.46440313863772</td><td>-1.4754697572961566</td><td>0.0540976</td><td>1377100700.0</td><td>0.8532263</td><td>216.46440313863772,-1.4754697572961566</td></tr>\n",
              "<tr><td>J142537.31-020420.1</td><td>216.40543365970126</td><td>-2.072082394178907</td><td>0.041688804</td><td>1577084800.0</td><td>0.8639438</td><td>216.40543365970126,-2.072082394178907</td></tr>\n",
              "<tr><td>J142146.01-012315.9</td><td>215.4417720430548</td><td>-1.3876214495848607</td><td>0.05408979</td><td>1506226300.0</td><td>1.2533232</td><td>215.4417720430548,-1.3876214495848607</td></tr>\n",
              "<tr><td>J143351.39+004623.4</td><td>218.46406939739833</td><td>0.7735516666666404</td><td>0.008092363</td><td>111651400.0</td><td>0.5</td><td>218.46406939739833,0.7735516666666404</td></tr>\n",
              "<tr><td>J145140.51-001826.4</td><td>222.91867614819705</td><td>-0.30738555294334</td><td>0.0021753535</td><td>7785889.5</td><td>0.9484637</td><td>222.91867614819705,-0.30738555294334</td></tr>\n",
              "<tr><td>J143859.81-023913.3</td><td>219.74879624643418</td><td>-2.6546973635094573</td><td>0.000679243</td><td>2850567.8</td><td>1.0056468</td><td>219.74879624643418,-2.6546973635094573</td></tr>\n",
              "<tr><td>J002254.49-121742.9</td><td>5.726210157064097</td><td>-12.294639462206739</td><td>0.00070598046</td><td>5408073.5</td><td>1.0914781</td><td>5.726210157064097,-12.294639462206739</td></tr>\n",
              "</table></div>"
            ],
            "text/plain": [
              "<QTable length=145155>\n",
              "      IAUNAME       ...                Coordinate              \n",
              "                    ...                 deg,deg                \n",
              "       str19        ...                 SkyCoord               \n",
              "------------------- ... ---------------------------------------\n",
              "J094651.40-010228.5 ...  146.71420878660933,-1.0412815695754145\n",
              "J094631.60-005917.7 ...  146.63173520920705,-0.9883548584122686\n",
              "J094842.33-002114.4 ...   147.1764469492006,-0.3540304166428786\n",
              "J094919.08+000144.0 ... 147.32950521628283,0.028894913633412792\n",
              "J094725.62-001626.6 ... 146.85676078112354,-0.27409464401659345\n",
              "J094446.23-004118.2 ...  146.19324131894246,-0.6893913949609716\n",
              "J094401.87-003832.1 ...  146.00780138386094,-0.6422592232200361\n",
              "J094622.67-000759.3 ... 146.59449798798227,-0.13314606121936812\n",
              "J094628.56-002603.4 ... 146.61906337604535,-0.43434545816802345\n",
              "                ... ...                                     ...\n",
              "J142742.16-014522.6 ...  216.92499212397075,-1.7557017362305867\n",
              "J142736.09-012439.8 ...   216.90023343631415,-1.410897845120738\n",
              "J142620.56-014727.5 ...   216.5857473491866,-1.7908952250653607\n",
              "J142551.55-012832.3 ...  216.46440313863772,-1.4754697572961566\n",
              "J142537.31-020420.1 ...   216.40543365970126,-2.072082394178907\n",
              "J142146.01-012315.9 ...   215.4417720430548,-1.3876214495848607\n",
              "J143351.39+004623.4 ...   218.46406939739833,0.7735516666666404\n",
              "J145140.51-001826.4 ...    222.91867614819705,-0.30738555294334\n",
              "J143859.81-023913.3 ...  219.74879624643418,-2.6546973635094573\n",
              "J002254.49-121742.9 ...   5.726210157064097,-12.294639462206739"
            ]
          },
          "execution_count": 15,
          "metadata": {},
          "output_type": "execute_result"
        }
      ],
      "source": [
        "data_nsa = QTable.read(hdu)\n",
        "nsa_data = data_nsa['IAUNAME','RA','DEC','ZDIST','MASS','SERSIC_N']\n",
        "#data_nsa\n",
        "nsa_data['RA'] = Angle(nsa_data['RA'],u.deg)\n",
        "nsa_data['DEC'] = Angle(nsa_data['DEC'],u.deg)\n",
        "nsa_data['Coordinate'] = SkyCoord(nsa_data['RA'],nsa_data['DEC'])\n",
        "nsa_data"
      ]
    },
    {
      "cell_type": "code",
      "execution_count": 1,
      "metadata": {},
      "outputs": [
        {
          "ename": "NameError",
          "evalue": "name 'nsa_data' is not defined",
          "output_type": "error",
          "traceback": [
            "\u001b[1;31m---------------------------------------------------------------------------\u001b[0m",
            "\u001b[1;31mNameError\u001b[0m                                 Traceback (most recent call last)",
            "Cell \u001b[1;32mIn[1], line 1\u001b[0m\n\u001b[1;32m----> 1\u001b[0m nsap_data \u001b[39m=\u001b[39m nsa_data[\u001b[39m'\u001b[39m\u001b[39mIAUNAME\u001b[39m\u001b[39m'\u001b[39m,\u001b[39m'\u001b[39m\u001b[39mRA\u001b[39m\u001b[39m'\u001b[39m,\u001b[39m'\u001b[39m\u001b[39mDEC\u001b[39m\u001b[39m'\u001b[39m,\u001b[39m'\u001b[39m\u001b[39mZDIST\u001b[39m\u001b[39m'\u001b[39m,\u001b[39m'\u001b[39m\u001b[39mMASS\u001b[39m\u001b[39m'\u001b[39m]\n\u001b[0;32m      2\u001b[0m nsap\u001b[39m=\u001b[39mnsap_data\u001b[39m.\u001b[39mto_pandas()\n\u001b[0;32m      3\u001b[0m count_of_zeros \u001b[39m=\u001b[39m (nsap[\u001b[39m'\u001b[39m\u001b[39mZDIST\u001b[39m\u001b[39m'\u001b[39m] \u001b[39m==\u001b[39m \u001b[39m0\u001b[39m)\u001b[39m.\u001b[39msum()\n",
            "\u001b[1;31mNameError\u001b[0m: name 'nsa_data' is not defined"
          ]
        }
      ],
      "source": [
        "nsap_data = nsa_data['IAUNAME','RA','DEC','ZDIST','MASS']\n",
        "nsap=nsap_data.to_pandas()\n",
        "count_of_zeros = (nsap['ZDIST'] == 0).sum()\n",
        "count_of_zeros\n",
        "list_zeros = np.array(list(np.where(nsap['Z'] == 0)))\n",
        "\n"
      ]
    },
    {
      "cell_type": "code",
      "execution_count": 34,
      "metadata": {},
      "outputs": [],
      "source": [
        "# Only for the 3D separation data\n",
        "#nsa_copy = QTable.read(hdu)\n",
        "#nsa_data_3d = nsa_copy.remove_rows([145040, 145042, 145048, 145053, 145063, 145081, 145095, 145097,145116, 145126, 145129, 145130, 145131, 145154])\n",
        "#nsa_data_3d['RA'] = Angle(nsa_data_3d['RA'],u.deg)\n",
        "#nsa_data_3d['DEC'] = Angle(nsa_data_3d['DEC'], u.deg)\n",
        "#nsa_rev3d_data['Coordinate'] = SkyCoord(nsa_data_3d['RA'],nsa_data_3d['DEC'])   \n",
        "#z = nsa_data_3d['Z']*cu.redshift\n",
        "#nsa_data_3d[\"Distance\"] = z.to(u.Mpc, cu.redshift_distance(WMAP9, kind=\"comoving\"))\n",
        "#nsa_data_3d['Distance']  = np.abs(nsa_data_3d['Distance'])\n",
        "#nsa_data_3d['Coordinates 3D'] = SkyCoord(nsa_data_3d['RA'],nsa_data_3d['DEC'],nsa_data_3d['Distance'])   \n",
        "#nsa_data_3d"
      ]
    },
    {
      "cell_type": "code",
      "execution_count": 17,
      "metadata": {},
      "outputs": [
        {
          "data": {
            "text/html": [
              "<div><i>QTable length=145155</i>\n",
              "<table id=\"table2205475116944\" class=\"table-striped table-bordered table-condensed\">\n",
              "<thead><tr><th>IAUNAME</th><th>RA</th><th>DEC</th><th>ZDIST</th><th>MASS</th><th>SERSIC_N</th><th>Coordinate</th><th>Distance</th><th>Coordinates 3D</th></tr></thead>\n",
              "<thead><tr><th></th><th>deg</th><th>deg</th><th></th><th></th><th></th><th>deg,deg</th><th>Mpc</th><th>deg,deg,Mpc</th></tr></thead>\n",
              "<thead><tr><th>str19</th><th>float64</th><th>float64</th><th>float32</th><th>float32</th><th>float32</th><th>SkyCoord</th><th>float64</th><th>SkyCoord</th></tr></thead>\n",
              "<tr><td>J094651.40-010228.5</td><td>146.71420878660933</td><td>-1.0412815695754145</td><td>0.020687785</td><td>8815395000.0</td><td>4.7782097</td><td>146.71420878660933,-1.0412815695754145</td><td>89.06994606504762</td><td>146.71420878660933,-1.0412815695754145,89.06994606504762</td></tr>\n",
              "<tr><td>J094631.60-005917.7</td><td>146.63173520920705</td><td>-0.9883548584122686</td><td>0.052030597</td><td>1583589900.0</td><td>0.91950214</td><td>146.63173520920705,-0.9883548584122686</td><td>222.47382681836243</td><td>146.63173520920705,-0.9883548584122686,222.47382681836243</td></tr>\n",
              "<tr><td>J094842.33-002114.4</td><td>147.1764469492006</td><td>-0.3540304166428786</td><td>0.0068420386</td><td>98977950.0</td><td>2.2755644</td><td>147.1764469492006,-0.3540304166428786</td><td>29.54659356954924</td><td>147.1764469492006,-0.3540304166428786,29.54659356954924</td></tr>\n",
              "<tr><td>J094919.08+000144.0</td><td>147.32950521628283</td><td>0.028894913633412792</td><td>0.04747421</td><td>17028572000.0</td><td>2.1455417</td><td>147.32950521628283,0.028894913633412792</td><td>203.1969668807592</td><td>147.32950521628283,0.028894913633412792,203.1969668807592</td></tr>\n",
              "<tr><td>J094725.62-001626.6</td><td>146.85676078112354</td><td>-0.27409464401659345</td><td>0.021350192</td><td>211533090.0</td><td>1.4893433</td><td>146.85676078112354,-0.27409464401659345</td><td>91.90862265727202</td><td>146.85676078112354,-0.27409464401659345,91.90862265727202</td></tr>\n",
              "<tr><td>J094446.23-004118.2</td><td>146.19324131894246</td><td>-0.6893913949609716</td><td>0.0048225927</td><td>51908532.0</td><td>1.0075195</td><td>146.19324131894246,-0.6893913949609716</td><td>20.834916644328196</td><td>146.19324131894246,-0.6893913949609716,20.834916644328196</td></tr>\n",
              "<tr><td>J094401.87-003832.1</td><td>146.00780138386094</td><td>-0.6422592232200361</td><td>0.005471182</td><td>29839562.0</td><td>6.0</td><td>146.00780138386094,-0.6422592232200361</td><td>23.633692671286962</td><td>146.00780138386094,-0.6422592232200361,23.633692671286962</td></tr>\n",
              "<tr><td>J094622.67-000759.3</td><td>146.59449798798227</td><td>-0.13314606121936812</td><td>0.045040708</td><td>2126517800.0</td><td>0.8475048</td><td>146.59449798798227,-0.13314606121936812</td><td>192.88517273175322</td><td>146.59449798798227,-0.13314606121936812,192.88517273175322</td></tr>\n",
              "<tr><td>J094628.56-002603.4</td><td>146.61906337604535</td><td>-0.43434545816802345</td><td>0.0066249934</td><td>191209170.0</td><td>0.9113793</td><td>146.61906337604535,-0.43434545816802345</td><td>28.61064870168428</td><td>146.61906337604535,-0.43434545816802345,28.61064870168428</td></tr>\n",
              "<tr><td>...</td><td>...</td><td>...</td><td>...</td><td>...</td><td>...</td><td>...</td><td>...</td><td>...</td></tr>\n",
              "<tr><td>J142742.16-014522.6</td><td>216.92499212397075</td><td>-1.7557017362305867</td><td>0.053435154</td><td>76612050000.0</td><td>6.0</td><td>216.92499212397075,-1.7557017362305867</td><td>228.40809870325864</td><td>216.92499212397075,-1.7557017362305867,228.40809870325864</td></tr>\n",
              "<tr><td>J142736.09-012439.8</td><td>216.90023343631415</td><td>-1.410897845120738</td><td>0.054302376</td><td>5050772500.0</td><td>5.5464573</td><td>216.90023343631415,-1.410897845120738</td><td>232.07022688836366</td><td>216.90023343631415,-1.410897845120738,232.07022688836366</td></tr>\n",
              "<tr><td>J142620.56-014727.5</td><td>216.5857473491866</td><td>-1.7908952250653607</td><td>0.054394297</td><td>6049248000.0</td><td>1.9632955</td><td>216.5857473491866,-1.7908952250653607</td><td>232.45831107611806</td><td>216.5857473491866,-1.7908952250653607,232.45831107611806</td></tr>\n",
              "<tr><td>J142551.55-012832.3</td><td>216.46440313863772</td><td>-1.4754697572961566</td><td>0.0540976</td><td>1377100700.0</td><td>0.8532263</td><td>216.46440313863772,-1.4754697572961566</td><td>231.20562542661335</td><td>216.46440313863772,-1.4754697572961566,231.20562542661335</td></tr>\n",
              "<tr><td>J142537.31-020420.1</td><td>216.40543365970126</td><td>-2.072082394178907</td><td>0.041688804</td><td>1577084800.0</td><td>0.8639438</td><td>216.40543365970126,-2.072082394178907</td><td>178.66316030125742</td><td>216.40543365970126,-2.072082394178907,178.66316030125742</td></tr>\n",
              "<tr><td>J142146.01-012315.9</td><td>215.4417720430548</td><td>-1.3876214495848607</td><td>0.05408979</td><td>1506226300.0</td><td>1.2533232</td><td>215.4417720430548,-1.3876214495848607</td><td>231.17264034359465</td><td>215.4417720430548,-1.3876214495848607,231.17264034359465</td></tr>\n",
              "<tr><td>J143351.39+004623.4</td><td>218.46406939739833</td><td>0.7735516666666404</td><td>0.008092363</td><td>111651400.0</td><td>0.5</td><td>218.46406939739833,0.7735516666666404</td><td>34.93654476489074</td><td>218.46406939739833,0.7735516666666404,34.93654476489074</td></tr>\n",
              "<tr><td>J145140.51-001826.4</td><td>222.91867614819705</td><td>-0.30738555294334</td><td>0.0021753535</td><td>7785889.5</td><td>0.9484637</td><td>222.91867614819705,-0.30738555294334</td><td>9.403483077210545</td><td>222.91867614819705,-0.30738555294334,9.403483077210545</td></tr>\n",
              "<tr><td>J143859.81-023913.3</td><td>219.74879624643418</td><td>-2.6546973635094573</td><td>0.000679243</td><td>2850567.8</td><td>1.0056468</td><td>219.74879624643418,-2.6546973635094573</td><td>2.9371349280082364</td><td>219.74879624643418,-2.6546973635094573,2.9371349280082364</td></tr>\n",
              "<tr><td>J002254.49-121742.9</td><td>5.726210157064097</td><td>-12.294639462206739</td><td>0.00070598046</td><td>5408073.5</td><td>1.0914781</td><td>5.726210157064097,-12.294639462206739</td><td>3.052733605116143</td><td>5.726210157064097,-12.294639462206739,3.052733605116143</td></tr>\n",
              "</table></div>"
            ],
            "text/plain": [
              "<QTable length=145155>\n",
              "      IAUNAME       ...\n",
              "                    ...\n",
              "       str19        ...\n",
              "------------------- ...\n",
              "J094651.40-010228.5 ...\n",
              "J094631.60-005917.7 ...\n",
              "J094842.33-002114.4 ...\n",
              "J094919.08+000144.0 ...\n",
              "J094725.62-001626.6 ...\n",
              "J094446.23-004118.2 ...\n",
              "J094401.87-003832.1 ...\n",
              "J094622.67-000759.3 ...\n",
              "J094628.56-002603.4 ...\n",
              "                ... ...\n",
              "J142742.16-014522.6 ...\n",
              "J142736.09-012439.8 ...\n",
              "J142620.56-014727.5 ...\n",
              "J142551.55-012832.3 ...\n",
              "J142537.31-020420.1 ...\n",
              "J142146.01-012315.9 ...\n",
              "J143351.39+004623.4 ...\n",
              "J145140.51-001826.4 ...\n",
              "J143859.81-023913.3 ...\n",
              "J002254.49-121742.9 ..."
            ]
          },
          "execution_count": 17,
          "metadata": {},
          "output_type": "execute_result"
        }
      ],
      "source": [
        "nsa_rev3d_data = nsa_data\n",
        "nsa_rev3d_data['RA'] = Angle(nsa_rev3d_data['RA'],u.deg)\n",
        "nsa_rev3d_data['DEC'] = Angle(nsa_rev3d_data['DEC'], u.deg)\n",
        "#nsa_rev3d_data['Coordinate'] = SkyCoord(nsa_rev3d_data['RA'],nsa_rev3d_data['DEC'])   \n",
        "z = nsa_rev3d_data['ZDIST']*cu.redshift\n",
        "nsa_rev3d_data[\"Distance\"] = z.to(u.Mpc, cu.redshift_distance(WMAP9, kind=\"comoving\"))\n",
        "nsa_rev3d_data['Distance']  = np.abs(nsa_rev3d_data['Distance'])\n",
        "nsa_rev3d_data['Coordinates 3D'] = SkyCoord(nsa_rev3d_data['RA'],nsa_rev3d_data['DEC'],nsa_rev3d_data['Distance'])   \n",
        "nsa_rev3d_data"
      ]
    },
    {
      "cell_type": "code",
      "execution_count": 36,
      "metadata": {},
      "outputs": [],
      "source": [
        "hdu_list.close()"
      ]
    },
    {
      "cell_type": "markdown",
      "metadata": {},
      "source": [
        "Cross-Matching catalogs"
      ]
    },
    {
      "cell_type": "markdown",
      "metadata": {},
      "source": [
        "2-D Mapping"
      ]
    },
    {
      "cell_type": "code",
      "execution_count": 19,
      "metadata": {},
      "outputs": [
        {
          "data": {
            "text/plain": [
              "145155"
            ]
          },
          "execution_count": 19,
          "metadata": {},
          "output_type": "execute_result"
        }
      ],
      "source": [
        "nsa_catalog_2d = nsa_data['IAUNAME','Coordinate']\n",
        "tns_catalog_2d = tns_data['Name','Coord']\n",
        "len(nsa_catalog_2d)"
      ]
    },
    {
      "cell_type": "code",
      "execution_count": 20,
      "metadata": {},
      "outputs": [
        {
          "data": {
            "text/plain": [
              "66"
            ]
          },
          "execution_count": 20,
          "metadata": {},
          "output_type": "execute_result"
        }
      ],
      "source": [
        "len(nsa_data['Coordinate'])\n",
        "len(tns_data['Coord'])"
      ]
    },
    {
      "cell_type": "code",
      "execution_count": 30,
      "metadata": {},
      "outputs": [
        {
          "name": "stdout",
          "output_type": "stream",
          "text": [
            "66\n"
          ]
        }
      ],
      "source": [
        "idx_sersic, sep2d_sersic, _ = tns_catalog_2d['Coord'].match_to_catalog_sky(nsa_catalog_2d['Coordinate'])\n",
        "match = nsa_catalog_2d[sep2d_sersic < 1*u.arcsec]\n",
        "\n",
        "print(len(sep2d_max))\n",
        "#sep2d_sersic\n"
      ]
    },
    {
      "cell_type": "code",
      "execution_count": 46,
      "metadata": {},
      "outputs": [],
      "source": [
        "sep2d_sersic = np.absolute(sep2d_sersic)\n",
        "sep2d_sersic = Angle(sep2d_sersic,u.deg)\n",
        "#sep2d_sersic"
      ]
    },
    {
      "cell_type": "code",
      "execution_count": 56,
      "metadata": {},
      "outputs": [
        {
          "data": {
            "text/plain": [
              "66"
            ]
          },
          "execution_count": 56,
          "metadata": {},
          "output_type": "execute_result"
        },
        {
          "data": {
            "image/png": "[encoded data removed]",
            "text/plain": [
              "<Figure size 640x480 with 1 Axes>"
            ]
          },
          "metadata": {},
          "output_type": "display_data"
        }
      ],
      "source": [
        "plt.hist(sep2d_sersic.deg, histtype='step', \n",
        "         bins=np.logspace(-3, 3,66))\n",
        "plt.xlabel('separation [degrees]')\n",
        "plt.xscale('log')\n",
        "plt.yscale('log')\n",
        "plt.tight_layout()\n",
        "len(sep2d_sersic.deg)"
      ]
    },
    {
      "cell_type": "code",
      "execution_count": 42,
      "metadata": {},
      "outputs": [
        {
          "data": {
            "text/plain": [
              "array([115564,  75016, 116600,  19726, 113030, 113854, 115383, 116552,\n",
              "       113798, 115632, 137023, 136895, 114144, 114320, 114697,   7448,\n",
              "       113904,   5217, 119297, 144246, 116552, 136755, 113716, 115424,\n",
              "       112857, 135898, 114943, 116552, 112871, 114344, 114315, 115153,\n",
              "       113102, 114128, 114449, 114775, 113218,   7540, 145008, 137108,\n",
              "       114996, 115258,   7519, 119803, 115007, 114551, 115645,  19779,\n",
              "         6010, 114564, 116552,   7769, 114959, 113915, 114128,  75016,\n",
              "       113795, 115384, 114201, 112950, 116286, 114128, 114376, 113798,\n",
              "       112855, 113837], dtype=int64)"
            ]
          },
          "execution_count": 42,
          "metadata": {},
          "output_type": "execute_result"
        }
      ],
      "source": [
        "idx_sersic"
      ]
    },
    {
      "cell_type": "code",
      "execution_count": 43,
      "metadata": {},
      "outputs": [
        {
          "data": {
            "text/plain": [
              "<TableColumns names=('IAUNAME','Coordinate')>"
            ]
          },
          "execution_count": 43,
          "metadata": {},
          "output_type": "execute_result"
        }
      ],
      "source": [
        "nsa_catalog_matched = nsa_catalog_2d[idx_sersic]\n",
        "nsa_catalog_matched.columns\n"
      ]
    },
    {
      "cell_type": "code",
      "execution_count": null,
      "metadata": {},
      "outputs": [],
      "source": [
        "sep_constraint = d2d < max_sep\n",
        "c_matches = cat_ch1[sep_constraint]\n",
        "catalog_ch2_matches = cat_ch2[idx[sep_constraint]]"
      ]
    },
    {
      "cell_type": "code",
      "execution_count": 48,
      "metadata": {},
      "outputs": [
        {
          "data": {
            "text/plain": [
              "(0, 66)"
            ]
          },
          "execution_count": 48,
          "metadata": {},
          "output_type": "execute_result"
        }
      ],
      "source": [
        "(sep2d_sersic < 1*u.arcsec).sum(), len(tns_catalog_2d)"
      ]
    },
    {
      "cell_type": "code",
      "execution_count": 49,
      "metadata": {},
      "outputs": [
        {
          "data": {
            "text/plain": [
              "(0, 66)"
            ]
          },
          "execution_count": 49,
          "metadata": {},
          "output_type": "execute_result"
        }
      ],
      "source": [
        "(sep2d_sersic < 1*u.arcmin).sum(), len(tns_catalog_2d)"
      ]
    },
    {
      "cell_type": "code",
      "execution_count": 66,
      "metadata": {},
      "outputs": [
        {
          "data": {
            "text/plain": [
              "11"
            ]
          },
          "execution_count": 66,
          "metadata": {},
          "output_type": "execute_result"
        }
      ],
      "source": [
        "(sep2d_sersic < 10*u.arcmin).sum()"
      ]
    },
    {
      "cell_type": "code",
      "execution_count": 85,
      "metadata": {},
      "outputs": [
        {
          "data": {
            "text/plain": [
              "3"
            ]
          },
          "execution_count": 85,
          "metadata": {},
          "output_type": "execute_result"
        }
      ],
      "source": [
        "(sep2d_sersic > 10*u.deg).sum()"
      ]
    },
    {
      "cell_type": "code",
      "execution_count": 92,
      "metadata": {},
      "outputs": [
        {
          "data": {
            "text/plain": [
              "<matplotlib.legend.Legend at 0x2650264bc90>"
            ]
          },
          "execution_count": 92,
          "metadata": {},
          "output_type": "execute_result"
        },
        {
          "data": {
            "image/png": "[encoded data removed]",
            "text/plain": [
              "<Figure size 800x600 with 1 Axes>"
            ]
          },
          "metadata": {},
          "output_type": "display_data"
        }
      ],
      "source": [
        "nsa_ra = nsa_catalog_matched['Coordinate'].ra\n",
        "nsa_dec = nsa_catalog_matched['Coordinate'].dec\n",
        "tns_ra = tns_catalog_2d['Coord'].ra\n",
        "tns_dec = tns_catalog_2d['Coord'].dec\n",
        "fig = plt.figure(figsize=(8,6))\n",
        "ax = fig.add_subplot(111, projection=\"mollweide\")\n",
        "ax.scatter(nsa_ra.radian, nsa_dec.radian,color = 'violet',label = 'NSA Data')\n",
        "ax.scatter(tns_ra.radian,tns_dec.radian,color = 'aquamarine',label = 'TNS Data')\n",
        "ax.legend()"
      ]
    },
    {
      "cell_type": "markdown",
      "metadata": {},
      "source": [
        "3-D Mapping "
      ]
    },
    {
      "cell_type": "code",
      "execution_count": 76,
      "metadata": {},
      "outputs": [],
      "source": [
        "nsa_catalog_3d = nsa_rev3d_data['IAUNAME','Coordinates 3D']\n",
        "tns_catalog_3d = tns_catalog_dist['Name','Coordinates']"
      ]
    },
    {
      "cell_type": "code",
      "execution_count": 77,
      "metadata": {},
      "outputs": [
        {
          "data": {
            "text/plain": [
              "64"
            ]
          },
          "execution_count": 77,
          "metadata": {},
          "output_type": "execute_result"
        }
      ],
      "source": [
        "idx_sersic, sep2d, sep3d = tns_catalog_3d['Coordinates'].match_to_catalog_sky(nsa_catalog_3d['Coordinates 3D'])\n",
        "len(sep2d) "
      ]
    },
    {
      "cell_type": "code",
      "execution_count": 78,
      "metadata": {},
      "outputs": [
        {
          "data": {
            "text/latex": [
              "$[217.37991,~158.96819,~36.570205,~308.05177,~90.587999,~1481.8747,~396.89295,~52.35621,~366.73322,~227.23787,~271.67778,~164.10022,~93.786302,~45.845556,~245.59009,~130.70948,~180.70697,~487.59832,~103.88714,~342.68054,~1000.5322,~150.67945,~663.67944,~360.76706,~118.77811,~569.36174,~92.246971,~211.6489,~451.86745,~542.22259,~1250.3577,~14.873134,~45.962234,~714.89115,~404.92752,~446.76481,~239.37996,~58.450058,~56.094355,~173.20826,~48.594766,~186.13646,~218.22355,~306.72639,~297.85868,~50.54713,~302.48878,~340.43231,~205.95139,~15.982034,~338.7018,~29.126699,~158.31441,~45.72548,~277.70132,~779.3453,~118.39643,~277.7002,~137.58728,~167.62262,~19.800921,~234.30133,~70.051902,~519.58351] \\; \\mathrm{Mpc}$"
            ],
            "text/plain": [
              "<Distance [ 217.37990764,  158.96819092,   36.57020502,  308.05176889,\n",
              "             90.58799926, 1481.87466431,  396.89295314,   52.3562101 ,\n",
              "            366.73322027,  227.23787069,  271.67778174,  164.1002207 ,\n",
              "             93.78630156,   45.84555567,  245.59009074,  130.70948173,\n",
              "            180.70697235,  487.59832025,  103.88714457,  342.68053521,\n",
              "           1000.5321724 ,  150.67945383,  663.67944092,  360.76705845,\n",
              "            118.77810747,  569.36174162,   92.24697134,  211.64890333,\n",
              "            451.86745149,  542.22258956, 1250.35770816,   14.87313379,\n",
              "             45.96223366,  714.89114933,  404.9275219 ,  446.76480662,\n",
              "            239.37996009,   58.45005846,   56.0943552 ,  173.20825865,\n",
              "             48.59476605,  186.13646284,  218.22355066,  306.72638636,\n",
              "            297.85868402,   50.54712968,  302.48878172,  340.43231006,\n",
              "            205.95139054,   15.98203396,  338.70179648,   29.12669938,\n",
              "            158.31441027,   45.72547959,  277.70132085,  779.34529519,\n",
              "            118.39643073,  277.70019989,  137.58728473,  167.62261884,\n",
              "             19.80092142,  234.30133145,   70.05190224,  519.58351297] Mpc>"
            ]
          },
          "execution_count": 78,
          "metadata": {},
          "output_type": "execute_result"
        }
      ],
      "source": [
        "sep3d"
      ]
    },
    {
      "cell_type": "code",
      "execution_count": 79,
      "metadata": {},
      "outputs": [
        {
          "data": {
            "image/png": "[encoded data removed]",
            "text/plain": [
              "<Figure size 640x480 with 1 Axes>"
            ]
          },
          "metadata": {},
          "output_type": "display_data"
        }
      ],
      "source": [
        "plt.hist(sep2d.deg, histtype='step', \n",
        "         bins=np.logspace(-2, 2,64))\n",
        "plt.xlabel('separation [degrees]')\n",
        "plt.xscale('log')\n",
        "plt.yscale('log')\n",
        "plt.tight_layout()\n"
      ]
    },
    {
      "cell_type": "code",
      "execution_count": 80,
      "metadata": {},
      "outputs": [
        {
          "data": {
            "image/png": "[encoded data removed]",
            "text/plain": [
              "<Figure size 640x480 with 1 Axes>"
            ]
          },
          "metadata": {},
          "output_type": "display_data"
        }
      ],
      "source": [
        "plt.hist(sep3d.Mpc, histtype='step', \n",
        "         bins=np.logspace(-4, 4,64))\n",
        "plt.xlabel('separation [Mpc]')\n",
        "plt.xscale('log')\n",
        "plt.yscale('log')\n",
        "plt.tight_layout()\n"
      ]
    },
    {
      "cell_type": "code",
      "execution_count": 81,
      "metadata": {},
      "outputs": [],
      "source": [
        "nsa_catalog_matched_3d = nsa_catalog_3d[idx_sersic]"
      ]
    },
    {
      "cell_type": "code",
      "execution_count": 87,
      "metadata": {},
      "outputs": [
        {
          "data": {
            "text/plain": [
              "3"
            ]
          },
          "execution_count": 87,
          "metadata": {},
          "output_type": "execute_result"
        }
      ],
      "source": [
        "(sep2d > 10*u.deg).sum()"
      ]
    },
    {
      "cell_type": "code",
      "execution_count": 90,
      "metadata": {},
      "outputs": [
        {
          "data": {
            "text/plain": [
              "<matplotlib.legend.Legend at 0x26502ebf7d0>"
            ]
          },
          "execution_count": 90,
          "metadata": {},
          "output_type": "execute_result"
        },
        {
          "data": {
            "image/png": "[encoded data removed]",
            "text/plain": [
              "<Figure size 800x600 with 1 Axes>"
            ]
          },
          "metadata": {},
          "output_type": "display_data"
        }
      ],
      "source": [
        "nsa_ra = nsa_catalog_matched_3d['Coordinates 3D'].ra\n",
        "nsa_dec = nsa_catalog_matched_3d['Coordinates 3D'].dec\n",
        "tns_ra = tns_catalog_3d['Coordinates'].ra\n",
        "tns_dec = tns_catalog_3d['Coordinates'].dec\n",
        "fig = plt.figure(figsize=(8,6))\n",
        "ax = fig.add_subplot(111, projection=\"mollweide\")\n",
        "ax.scatter(nsa_ra.radian, nsa_dec.radian,color = 'violet',label = 'NSA Data')\n",
        "ax.scatter(tns_ra.radian,tns_dec.radian,color = 'aquamarine',label = 'TNS Data')\n",
        "ax.legend()"
      ]
    }
  ],
  "metadata": {
    "colab": {
      "provenance": []
    },
    "kernelspec": {
      "display_name": "Python 3",
      "name": "python3"
    },
    "language_info": {
      "codemirror_mode": {
        "name": "ipython",
        "version": 3
      },
      "file_extension": ".py",
      "mimetype": "text/x-python",
      "name": "python",
      "nbconvert_exporter": "python",
      "pygments_lexer": "ipython3",
      "version": "3.11.4"
    }
  },
  "nbformat": 4,
  "nbformat_minor": 0
}
