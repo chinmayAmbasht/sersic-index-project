{
  "nbformat": 4,
  "nbformat_minor": 0,
  "metadata": {
    "colab": {
      "provenance": []
    },
    "kernelspec": {
      "name": "python3",
      "display_name": "Python 3"
    },
    "language_info": {
      "name": "python"
    }
  },
  "cells": [
    {
      "cell_type": "code",
      "execution_count": 1,
      "metadata": {
        "id": "PtxXGWRb3Op9"
      },
      "outputs": [],
      "source": [
        "import pandas as pd\n",
        "import numpy as np\n",
        "from astropy.io import fits\n",
        "from astropy.io import ascii\n",
        "import astropy.units as u\n",
        "from astropy.coordinates import SkyCoord\n",
        "from astropy.table import QTable\n",
        "from astropy.table import Table\n",
        "from matplotlib.colors import LogNorm\n",
        "\n",
        "# Set up matplotlib\n",
        "import matplotlib.pyplot as plt\n",
        "%matplotlib inline"
      ]
    },
    {
      "cell_type": "markdown",
      "source": [
        "TNS Survey Data containing TDE, TDE-H + He\n",
        "\n"
      ],
      "metadata": {
        "id": "11JcSVAe6yDb"
      }
    },
    {
      "cell_type": "code",
      "source": [
        "tns_tde = pd.read_csv('/content/tns_search_tde.csv')\n",
        "tns_tde1 = pd.read_csv('/content/tns_search_tde1.csv')\n",
        "tns2 = pd.read_csv('/content/tns_search_tdehhe.csv')\n",
        "tns_complete_list = pd.concat([tns_tde,tns_tde1,tns2])\n",
        "#tns_complete_list\n",
        "tns_complete_list.to_csv('tde_complete.csv')\n",
        "#tns_tde"
      ],
      "metadata": {
        "id": "hYz5pilw3lsx"
      },
      "execution_count": 3,
      "outputs": []
    },
    {
      "cell_type": "code",
      "source": [
        "tns_complete_list.columns"
      ],
      "metadata": {
        "id": "nGnlPqsXs-gW",
        "colab": {
          "base_uri": "https://localhost:8080/"
        },
        "outputId": "dba32bb5-7d47-4088-fade-8da6c9d6eed7"
      },
      "execution_count": 4,
      "outputs": [
        {
          "output_type": "execute_result",
          "data": {
            "text/plain": [
              "Index(['ID', 'Name', 'RA', 'DEC', 'Obj. Type', 'Redshift', 'Host Name',\n",
              "       'Host Redshift', 'Reporting Group/s', 'Discovery Data Source/s',\n",
              "       'Classifying Group/s', 'Associated Group/s', 'Disc. Internal Name',\n",
              "       'Disc. Instrument/s', 'Class. Instrument/s', 'TNS AT', 'Public',\n",
              "       'End Prop. Period', 'Discovery Mag/Flux', 'Discovery Filter',\n",
              "       'Discovery Date (UT)', 'Sender', 'Remarks', 'Discovery Bibcode',\n",
              "       'Classification Bibcodes', 'Ext. catalog/s'],\n",
              "      dtype='object')"
            ]
          },
          "metadata": {},
          "execution_count": 4
        }
      ]
    },
    {
      "cell_type": "code",
      "source": [
        "data_tns = tns_complete_list[['Name','RA','DEC','Redshift','Obj. Type']]\n",
        "#data_tns"
      ],
      "metadata": {
        "id": "yzet01w_FPcF"
      },
      "execution_count": 5,
      "outputs": []
    },
    {
      "cell_type": "markdown",
      "source": [
        "NSA Sloan Data"
      ],
      "metadata": {
        "id": "Z3NrVREN7IuQ"
      }
    },
    {
      "cell_type": "code",
      "source": [
        "hdu_list = fits.open('nsa_v0_1_2.fits', memmap=True)"
      ],
      "metadata": {
        "id": "2BkrP8z866nr"
      },
      "execution_count": 6,
      "outputs": []
    },
    {
      "cell_type": "code",
      "source": [
        "hdu_list.info()"
      ],
      "metadata": {
        "id": "fmWqrG2_H4fN",
        "colab": {
          "base_uri": "https://localhost:8080/"
        },
        "outputId": "42ea9ad3-0889-4f95-8519-952dfc9a96be"
      },
      "execution_count": 7,
      "outputs": [
        {
          "output_type": "stream",
          "name": "stderr",
          "text": [
            "WARNING: File may have been truncated: actual file length (12582912) is smaller than the expected size (535363200) [astropy.io.fits.file]\n",
            "WARNING:astropy:File may have been truncated: actual file length (12582912) is smaller than the expected size (535363200)\n"
          ]
        },
        {
          "output_type": "stream",
          "name": "stdout",
          "text": [
            "Filename: nsa_v0_1_2.fits\n",
            "No.    Name      Ver    Type      Cards   Dimensions   Format\n",
            "  0  PRIMARY       1 PrimaryHDU       4   ()      \n",
            "  1                1 BinTableHDU    312   145155R x 143C   [19A, 27A, D, D, J, J, J, J, J, J, E, E, 7A, E, I, B, I, 3A, E, E, E, E, E, J, 7E, 7E, I, 7E, 7E, 7E, 7E, 7E, 5E, 7E, E, E, E, E, D, D, 7E, 105E, 105E, 105E, 105E, 105E, 105E, 7E, 7E, 7E, 7E, E, E, E, E, 7E, 7E, E, E, E, 7E, 7E, 7J, J, J, 8A, 15E, E, E, E, E, J, J, J, J, 7E, E, E, E, E, E, E, E, E, E, E, E, E, E, E, E, E, E, E, E, E, E, E, E, E, E, E, E, E, E, E, E, E, E, E, E, E, E, E, E, E, E, E, E, E, E, E, E, E, E, E, E, E, E, E, E, E, E, E, D, D, E, 6A, 23A, 8A, J, D, D]   \n"
          ]
        }
      ]
    },
    {
      "cell_type": "code",
      "source": [
        "data  = hdu_list[1]"
      ],
      "metadata": {
        "id": "mam3QKTegQVk"
      },
      "execution_count": 8,
      "outputs": []
    },
    {
      "cell_type": "code",
      "source": [
        "data.fileinfo()"
      ],
      "metadata": {
        "colab": {
          "base_uri": "https://localhost:8080/"
        },
        "id": "_TLAVGuHgN4m",
        "outputId": "1b03fb75-28b9-455b-8b8c-1ef4a2ea45d1"
      },
      "execution_count": 9,
      "outputs": [
        {
          "output_type": "execute_result",
          "data": {
            "text/plain": [
              "{'file': <astropy.io.fits.file._File <_io.BufferedReader name='nsa_v0_1_2.fits'>>,\n",
              " 'filemode': 'readonly',\n",
              " 'hdrLoc': 2880,\n",
              " 'datLoc': 28800,\n",
              " 'datSpan': 535334400}"
            ]
          },
          "metadata": {},
          "execution_count": 9
        }
      ]
    },
    {
      "cell_type": "code",
      "source": [],
      "metadata": {
        "id": "CT5GajvJUr-_"
      },
      "execution_count": 11,
      "outputs": []
    }
  ]
}